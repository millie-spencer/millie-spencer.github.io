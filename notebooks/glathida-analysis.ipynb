{
 "cells": [
  {
   "cell_type": "markdown",
   "metadata": {},
   "source": [
    "## Oct 4 - loading GLATHIDA database to access glacier thickness estimates\n",
    "### GLATHIDA available at: https://gitlab.com/wgms/glathida"
   ]
  },
  {
   "cell_type": "code",
   "execution_count": 4,
   "metadata": {},
   "outputs": [
    {
     "name": "stdout",
     "output_type": "stream",
     "text": [
      "File not found at path: https://github.com/millie-spencer/millie-spencer.github.io/blob/main/glathida_chile_glaciers.csv#:~:text=_config.yml-,glathida_chile_glaciers,-.csv\n"
     ]
    }
   ],
   "source": [
    "# Code from Chat GBT\n",
    "# uploaded glacier data 'glathida_chile_glaciers.csv' to repository \n",
    "import csv\n",
    "import os \n",
    "\n",
    "# Define the path to the CSV file\n",
    "csv_file_path = \"https://github.com/millie-spencer/millie-spencer.github.io/blob/main/glathida_chile_glaciers.csv#:~:text=_config.yml-,glathida_chile_glaciers,-.csv\"\n",
    "\n",
    "try:\n",
    "    # Open and read the CSV file\n",
    "    with open(csv_file_path, 'r', newline='', encoding='utf-8') as csv_file:\n",
    "        # Create a CSV reader\n",
    "        csv_reader = csv.DictReader(csv_file)\n",
    "\n",
    "        # Iterate through each row in the CSV\n",
    "        for row in csv_reader:\n",
    "            glacier_name = row['GLACIER_NAME']  # Assuming 'Name' is the column containing glacier names\n",
    "            thickness = row['MEAN_THICKNESS']  # Assuming 'Thickness' is the column containing thickness values\n",
    "            area = row['AREA']\n",
    "            latitude = row['LAT']  # Assuming 'Latitude' is the column containing latitude values\n",
    "            longitude = row['LON']  # Assuming 'Longitude' is the column containing longitude values\n",
    "\n",
    "            # Print the attributes of the glacier\n",
    "            print(f\"Glacier Name: {glacier_name}\")\n",
    "            print(f\"Thickness: {thickness}\")\n",
    "            print(f\"Area: {area}\")\n",
    "            print(f\"Latitude: {latitude}\")\n",
    "            print(f\"Longitude: {longitude}\")\n",
    "            print(\"---------------------------\")\n",
    "\n",
    "except FileNotFoundError:\n",
    "    print(f\"File not found at path: {csv_file_path}\")\n",
    "except Exception as e:\n",
    "    print(f\"An error occurred: {e}\")\n"
   ]
  },
  {
   "cell_type": "code",
   "execution_count": null,
   "metadata": {},
   "outputs": [],
   "source": [
    "# now trying to find Chillán Viejo glacier via GBT code: \n",
    "\n",
    "# Define the target GLACIER_ID\n",
    "target_glacier_id = \"RGI60-17.13013\"\n",
    "\n",
    "    # Iterate through the data to find the glacier with the target GLACIER_ID\n",
    "found_glacier = None\n",
    "for glacier in data['glacier_info']:\n",
    "    if glacier.get('GLACIER_ID') == target_glacier_id:\n",
    "        found_glacier = glacier\n",
    "        break\n",
    "\n",
    "# Check if the glacier was found\n",
    "if found_glacier:\n",
    "    # Print the attributes of the found glacier\n",
    "    print(\"MEAN_THICKNESS\", target_glacier_id)\n",
    "    for key, value in found_glacier.items():\n",
    "        print(f\"{key}: {value}\")\n",
    "    else:\n",
    "        print(f\"Glacier {target_glacier_id} not found.\")\n",
    "\n",
    "except FileNotFoundError:\n",
    "    print(f\"File not found at path: {file_path}\")\n",
    "except json.JSONDecodeError as e:\n",
    "    print(f\"Error decoding JSON: {e}\")\n",
    "except Exception as e:\n",
    "    print(f\"An error occurred: {e}\")\n"
   ]
  }
 ],
 "metadata": {
  "kernelspec": {
   "display_name": "base",
   "language": "python",
   "name": "python3"
  },
  "language_info": {
   "codemirror_mode": {
    "name": "ipython",
    "version": 3
   },
   "file_extension": ".py",
   "mimetype": "text/x-python",
   "name": "python",
   "nbconvert_exporter": "python",
   "pygments_lexer": "ipython3",
   "version": "3.10.11"
  },
  "orig_nbformat": 4
 },
 "nbformat": 4,
 "nbformat_minor": 2
}

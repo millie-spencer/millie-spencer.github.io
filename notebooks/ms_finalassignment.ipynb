{
 "cells": [
  {
   "cell_type": "markdown",
   "metadata": {},
   "source": [
    "# Grassland Management Under Climate Change\n",
    "Final Project Earth Analytics Bootcamp  \n",
    "By @millie-spencer "
   ]
  },
  {
   "cell_type": "markdown",
   "metadata": {},
   "source": [
    "## Project Summary \n",
    "This project analyzes how Sorghastrum nutans, a grass native to North America, is being impacted by climate change. As average temperatures rise, many species are shifting northward in North America to seek cooler temperatures that meet their habitat needs. In this project, I create a habitat suitability model to determine where Sorghastrum nutans is best suited geographically, based on soil, topography, and climate. \n",
    "\n",
    "![Sorghastrum nutans, often called Indiangrass.](https://upload.wikimedia.org/wikipedia/commons/6/67/Sorghastrum_nutans_%283912210423%29.jpg)\n",
    "\n",
    "> Image Source: [Wikipedia](https://commons.wikimedia.org/wiki/File:Sorghastrum_nutans_%283912210423%29.jpg)"
   ]
  },
  {
   "cell_type": "markdown",
   "metadata": {},
   "source": [
    "We use the United States Forest Service (USFS) National Grassland Units, a publically-available database containing shapfiles for the 20 National Grasslands managed by the USFS. For my project, I analyze the Pawnee National Grassland in northeastern Colorado, and the Cimarron National Grassland in southwestern Kansas. These sites are at approximately the same longitude, so we will assess how the higher latutude of the Pawnee grassland may influence the local ecology as compared to the Cimarron grassland further south. "
   ]
  },
  {
   "cell_type": "markdown",
   "metadata": {},
   "source": [
    "## Step 1: \n",
    "Import Packages and set working directory "
   ]
  },
  {
   "cell_type": "code",
   "execution_count": null,
   "metadata": {},
   "outputs": [],
   "source": [
    "# Importing packages  \n",
    "import os\n",
    "from glob import glob\n",
    "\n",
    "import earthpy as et\n",
    "import earthpy.earthexplorer as etee\n",
    "import earthpy.spatial as es\n",
    "import geopandas as gpd \n",
    "import geoviews as gv\n",
    "import holoviews as hv\n",
    "import hvplot.pandas\n",
    "import numpy as np\n",
    "import pandas as pd\n",
    "import rioxarray as rxr\n",
    "import rioxarray.merge as rxrmerge\n",
    "import shutil\n",
    "\n",
    "# set home directory \n",
    "data_dir = os.path.join(et.io.HOME, et.io.DATA_NAME)\n",
    "grass_dir = os.path.join(data, 'S_USA.NationalGrassland')\n",
    "#ndvi_dir = os.path.join(data_dir, 'chicago-green-space', 'processed')\n",
    "\n",
    "# for a_dir in [chi_dir, ndvi_dir]:\n",
    "#     if not os.path.exists(a_dir): \n",
    "#         os.makedirs(a_dir)"
   ]
  },
  {
   "cell_type": "markdown",
   "metadata": {},
   "source": [
    "## Step 2: \n",
    "Define areas of interest (Pawnee National Grassland and Cimarron National Grassland). Download and cache a shapefile of the USFS grasslands from [the USFS National Grassland Units](https://github.com/earthlab-education/Earth-Analytics-2023-01-Intro/issues/637#:~:text=USFS%20National%20Grassland%20Units)."
   ]
  },
  {
   "cell_type": "code",
   "execution_count": null,
   "metadata": {},
   "outputs": [],
   "source": [
    "# conditional statement to download shapefile: https://data.fs.usda.gov/geodata/edw/edw_resources/shp/S_USA.NationalGrassland.zip\n",
    "grass_path = os.path.join(grass_dir, 'S_USA.NationalGrassland.shp')\n",
    "if not os.path.exists(grass_path): \n",
    "    chi_url = (\"https://data.fs.usda.gov/geodata/edw/edw_resources/\"\n",
    "               \"shp/S_USA.NationalGrassland.zip\")\n",
    "    gpd.read_file(chi_url).to_file(grass_path)\n",
    "\n",
    "# read as gdf \n",
    "grass_gdf = gpd.read_file(grass_path).set_index('GRASSLANDN')\n",
    "\n",
    "# Select the areas of interest\n",
    "sel_gdf = (\n",
    "    grass_gdf\n",
    "    .loc[['Cimarron National Grassland', 'Pawnee National Grassland']]\n",
    ")\n",
    "sel_gdf"
   ]
  }
 ],
 "metadata": {
  "language_info": {
   "name": "python"
  }
 },
 "nbformat": 4,
 "nbformat_minor": 2
}
